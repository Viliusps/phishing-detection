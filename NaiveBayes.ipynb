{
 "cells": [
  {
   "cell_type": "code",
   "execution_count": null,
   "id": "13325d1b-8779-4c1f-920d-10337ea29fef",
   "metadata": {},
   "outputs": [],
   "source": [
    "install.packages(\"rsample\")\n",
    "install.packages(\"dplyr\")\n",
    "install.packages(\"ggplot2\")\n",
    "install.packages(\"h2o\")\n",
    "install.packages(\"foreign\")\n",
    "install.packages(\"caret\")"
   ]
  },
  {
   "cell_type": "code",
   "execution_count": null,
   "id": "6bfee4fe-6b4d-433c-afe9-02a7e5e209ed",
   "metadata": {},
   "outputs": [],
   "source": [
    "install.packages(\"caret\", dependencies = TRUE)"
   ]
  },
  {
   "cell_type": "code",
   "execution_count": 11,
   "id": "42cf7d23-6ee8-413f-bf58-e63a6798454b",
   "metadata": {},
   "outputs": [
    {
     "name": "stderr",
     "output_type": "stream",
     "text": [
      "Warning message in install.packages(\"TH.data\"):\n",
      "“paketo ‘TH.data’ diegimas turėjo ne nulinio išėjimo būseną”\n",
      "Atnaujinamas HTML paketų indeksas, esantis '.Library'\n",
      "\n",
      "Making 'packages.html' ...\n",
      " atlikta\n",
      "\n"
     ]
    }
   ],
   "source": [
    "install.packages(\"TH.data\")"
   ]
  },
  {
   "cell_type": "code",
   "execution_count": 8,
   "id": "44d7a32c-2820-4727-bd3d-d9a1a6a320b8",
   "metadata": {},
   "outputs": [
    {
     "ename": "ERROR",
     "evalue": "Error: paketo arba vardų srities apkrova nepavyko ‘rsample’ in loadNamespace(j <- i[[1L]], c(lib.loc, .libPaths()), versionCheck = vI[[j]]):\n vardų erdvė ‘pillar’ 1.7.0 jau įkelta, bet turi būti >= 1.9.0\n",
     "output_type": "error",
     "traceback": [
      "Error: paketo arba vardų srities apkrova nepavyko ‘rsample’ in loadNamespace(j <- i[[1L]], c(lib.loc, .libPaths()), versionCheck = vI[[j]]):\n vardų erdvė ‘pillar’ 1.7.0 jau įkelta, bet turi būti >= 1.9.0\nTraceback:\n",
      "1. library(rsample)",
      "2. tryCatch({\n .     attr(package, \"LibPath\") <- which.lib.loc\n .     ns <- loadNamespace(package, lib.loc)\n .     env <- attachNamespace(ns, pos = pos, deps, exclude, include.only)\n . }, error = function(e) {\n .     P <- if (!is.null(cc <- conditionCall(e))) \n .         paste(\" in\", deparse(cc)[1L])\n .     else \"\"\n .     msg <- gettextf(\"package or namespace load failed for %s%s:\\n %s\", \n .         sQuote(package), P, conditionMessage(e))\n .     if (logical.return && !quietly) \n .         message(paste(\"Error:\", msg), domain = NA)\n .     else stop(msg, call. = FALSE, domain = NA)\n . })",
      "3. tryCatchList(expr, classes, parentenv, handlers)",
      "4. tryCatchOne(expr, names, parentenv, handlers[[1L]])",
      "5. value[[3L]](cond)",
      "6. stop(msg, call. = FALSE, domain = NA)"
     ]
    }
   ],
   "source": [
    "library(rsample)\n",
    "library(dplyr)\n",
    "library(ggplot2)\n",
    "library(h2o)\n",
    "library(foreign)\n",
    "library(caret)"
   ]
  }
 ],
 "metadata": {
  "kernelspec": {
   "display_name": "R 4.2.3 (native)",
   "language": "R",
   "name": "ir36_native"
  },
  "language_info": {
   "codemirror_mode": "r",
   "file_extension": ".r",
   "mimetype": "text/x-r-source",
   "name": "R",
   "pygments_lexer": "r",
   "version": "4.2.3"
  }
 },
 "nbformat": 4,
 "nbformat_minor": 5
}
