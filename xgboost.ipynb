{
 "cells": [
  {
   "cell_type": "code",
   "execution_count": 1,
   "id": "initial_id",
   "metadata": {
    "collapsed": true,
    "ExecuteTime": {
     "end_time": "2023-11-23T19:10:37.239370Z",
     "start_time": "2023-11-23T19:10:37.233002700Z"
    }
   },
   "outputs": [],
   "source": [
    "from scipy.io import arff\n",
    "import pandas as pd\n",
    "from xgboost import XGBClassifier\n",
    "from sklearn.model_selection import train_test_split\n",
    "from sklearn.metrics import accuracy_score\n",
    "from sklearn.model_selection import GridSearchCV\n",
    "from sklearn.preprocessing import LabelEncoder"
   ]
  },
  {
   "cell_type": "code",
   "execution_count": 2,
   "outputs": [],
   "source": [
    "data, meta = arff.loadarff('dataset.arff')\n",
    "df = pd.DataFrame(data)\n",
    "for column in df.columns:\n",
    "    df[column] = df[column].str.decode('utf-8').astype(int)\n",
    "X = df.drop('Result', axis=1)\n",
    "y = df['Result']\n",
    "\n",
    "X_train, X_test, y_train, y_test = train_test_split(X, y, test_size=0.2, random_state=42)\n",
    "le = LabelEncoder()\n",
    "y_train = le.fit_transform(y_train)\n",
    "y_test = le.fit_transform(y_test)"
   ],
   "metadata": {
    "collapsed": false,
    "ExecuteTime": {
     "end_time": "2023-11-23T19:10:37.611106800Z",
     "start_time": "2023-11-23T19:10:37.239370Z"
    }
   },
   "id": "794fca8837c25609"
  },
  {
   "cell_type": "code",
   "execution_count": 3,
   "outputs": [],
   "source": [
    "param_grid = {\n",
    "    'learning_rate': [0.2],#[0.001, 0.01, 0.1, 0.2],\n",
    "    'min_child_weight': [3],#[int(x) for x in range(1, 4, 1)],\n",
    "    'n_estimators': [220],#[int(x) for x in range(10, 310, 10)],\n",
    "    'max_depth': [10],#[None] + [int(x) for x in range(10, 120, 10)],\n",
    "}\n",
    "\n",
    "model = XGBClassifier()\n",
    "grid_search = GridSearchCV(model, param_grid, scoring='accuracy', cv=3, n_jobs=-1)\n",
    "grid_result = grid_search.fit(X_train, y_train)"
   ],
   "metadata": {
    "collapsed": false,
    "ExecuteTime": {
     "end_time": "2023-11-23T19:40:09.253015800Z",
     "start_time": "2023-11-23T19:10:37.609087Z"
    }
   },
   "id": "1585dbe230da95a0"
  },
  {
   "cell_type": "code",
   "execution_count": 4,
   "outputs": [
    {
     "name": "stdout",
     "output_type": "stream",
     "text": [
      "Best Parameters:  {'learning_rate': 0.2, 'max_depth': 10, 'min_child_weight': 3, 'n_estimators': 220}\n",
      "Best Accuracy:  0.9698100407055632\n"
     ]
    }
   ],
   "source": [
    "print(\"Best Parameters: \", grid_result.best_params_)\n",
    "print(\"Best Accuracy: \", grid_result.best_score_)\n",
    "\n",
    "best_model = grid_result.best_estimator_"
   ],
   "metadata": {
    "collapsed": false,
    "ExecuteTime": {
     "end_time": "2023-11-23T19:40:09.267178300Z",
     "start_time": "2023-11-23T19:40:09.257117700Z"
    }
   },
   "id": "d97ecc68a98ee963"
  },
  {
   "cell_type": "code",
   "execution_count": 5,
   "outputs": [
    {
     "name": "stdout",
     "output_type": "stream",
     "text": [
      "Accuracy: 97.01%\n"
     ]
    }
   ],
   "source": [
    "y_pred = best_model.predict(X_test)\n",
    "\n",
    "accuracy = accuracy_score(y_test, y_pred)\n",
    "print(f'Accuracy: {accuracy * 100:.2f}%')"
   ],
   "metadata": {
    "collapsed": false,
    "ExecuteTime": {
     "end_time": "2023-11-23T19:40:09.299507600Z",
     "start_time": "2023-11-23T19:40:09.263153200Z"
    }
   },
   "id": "1e1ce96adaed9da0"
  }
 ],
 "metadata": {
  "kernelspec": {
   "display_name": "Python 3",
   "language": "python",
   "name": "python3"
  },
  "language_info": {
   "codemirror_mode": {
    "name": "ipython",
    "version": 2
   },
   "file_extension": ".py",
   "mimetype": "text/x-python",
   "name": "python",
   "nbconvert_exporter": "python",
   "pygments_lexer": "ipython2",
   "version": "2.7.6"
  }
 },
 "nbformat": 4,
 "nbformat_minor": 5
}
